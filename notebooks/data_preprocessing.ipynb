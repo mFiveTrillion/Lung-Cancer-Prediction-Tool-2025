{
 "cells": [
  {
   "cell_type": "code",
   "execution_count": 1,
   "id": "8db06d58",
   "metadata": {},
   "outputs": [
    {
     "name": "stdout",
     "output_type": "stream",
     "text": [
      "Python interpreter: /Users/hayden/Developer/Lung-Cancer-Prediction-Model-2025/.venv/bin/python\n"
     ]
    }
   ],
   "source": [
    "import pandas as pd\n",
    "import numpy as np\n",
    "import sys\n",
    "import os\n",
    "from sklearn.preprocessing import LabelEncoder, StandardScaler\n",
    "import matplotlib.pyplot as plt\n",
    "import seaborn as sns\n",
    "\n",
    "print(\"Python interpreter:\", sys.executable)\n"
   ]
  },
  {
   "cell_type": "code",
   "execution_count": 7,
   "id": "59b652f3",
   "metadata": {},
   "outputs": [
    {
     "name": "stdout",
     "output_type": "stream",
     "text": [
      "Loaded data shape: (1000, 26)\n"
     ]
    },
    {
     "data": {
      "text/html": [
       "<div>\n",
       "<style scoped>\n",
       "    .dataframe tbody tr th:only-of-type {\n",
       "        vertical-align: middle;\n",
       "    }\n",
       "\n",
       "    .dataframe tbody tr th {\n",
       "        vertical-align: top;\n",
       "    }\n",
       "\n",
       "    .dataframe thead th {\n",
       "        text-align: right;\n",
       "    }\n",
       "</style>\n",
       "<table border=\"1\" class=\"dataframe\">\n",
       "  <thead>\n",
       "    <tr style=\"text-align: right;\">\n",
       "      <th></th>\n",
       "      <th>index</th>\n",
       "      <th>Patient Id</th>\n",
       "      <th>Age</th>\n",
       "      <th>Gender</th>\n",
       "      <th>Air Pollution</th>\n",
       "      <th>Alcohol use</th>\n",
       "      <th>Dust Allergy</th>\n",
       "      <th>OccuPational Hazards</th>\n",
       "      <th>Genetic Risk</th>\n",
       "      <th>chronic Lung Disease</th>\n",
       "      <th>...</th>\n",
       "      <th>Fatigue</th>\n",
       "      <th>Weight Loss</th>\n",
       "      <th>Shortness of Breath</th>\n",
       "      <th>Wheezing</th>\n",
       "      <th>Swallowing Difficulty</th>\n",
       "      <th>Clubbing of Finger Nails</th>\n",
       "      <th>Frequent Cold</th>\n",
       "      <th>Dry Cough</th>\n",
       "      <th>Snoring</th>\n",
       "      <th>Level</th>\n",
       "    </tr>\n",
       "  </thead>\n",
       "  <tbody>\n",
       "    <tr>\n",
       "      <th>0</th>\n",
       "      <td>0</td>\n",
       "      <td>P1</td>\n",
       "      <td>33</td>\n",
       "      <td>1</td>\n",
       "      <td>2</td>\n",
       "      <td>4</td>\n",
       "      <td>5</td>\n",
       "      <td>4</td>\n",
       "      <td>3</td>\n",
       "      <td>2</td>\n",
       "      <td>...</td>\n",
       "      <td>3</td>\n",
       "      <td>4</td>\n",
       "      <td>2</td>\n",
       "      <td>2</td>\n",
       "      <td>3</td>\n",
       "      <td>1</td>\n",
       "      <td>2</td>\n",
       "      <td>3</td>\n",
       "      <td>4</td>\n",
       "      <td>Low</td>\n",
       "    </tr>\n",
       "    <tr>\n",
       "      <th>1</th>\n",
       "      <td>1</td>\n",
       "      <td>P10</td>\n",
       "      <td>17</td>\n",
       "      <td>1</td>\n",
       "      <td>3</td>\n",
       "      <td>1</td>\n",
       "      <td>5</td>\n",
       "      <td>3</td>\n",
       "      <td>4</td>\n",
       "      <td>2</td>\n",
       "      <td>...</td>\n",
       "      <td>1</td>\n",
       "      <td>3</td>\n",
       "      <td>7</td>\n",
       "      <td>8</td>\n",
       "      <td>6</td>\n",
       "      <td>2</td>\n",
       "      <td>1</td>\n",
       "      <td>7</td>\n",
       "      <td>2</td>\n",
       "      <td>Medium</td>\n",
       "    </tr>\n",
       "    <tr>\n",
       "      <th>2</th>\n",
       "      <td>2</td>\n",
       "      <td>P100</td>\n",
       "      <td>35</td>\n",
       "      <td>1</td>\n",
       "      <td>4</td>\n",
       "      <td>5</td>\n",
       "      <td>6</td>\n",
       "      <td>5</td>\n",
       "      <td>5</td>\n",
       "      <td>4</td>\n",
       "      <td>...</td>\n",
       "      <td>8</td>\n",
       "      <td>7</td>\n",
       "      <td>9</td>\n",
       "      <td>2</td>\n",
       "      <td>1</td>\n",
       "      <td>4</td>\n",
       "      <td>6</td>\n",
       "      <td>7</td>\n",
       "      <td>2</td>\n",
       "      <td>High</td>\n",
       "    </tr>\n",
       "    <tr>\n",
       "      <th>3</th>\n",
       "      <td>3</td>\n",
       "      <td>P1000</td>\n",
       "      <td>37</td>\n",
       "      <td>1</td>\n",
       "      <td>7</td>\n",
       "      <td>7</td>\n",
       "      <td>7</td>\n",
       "      <td>7</td>\n",
       "      <td>6</td>\n",
       "      <td>7</td>\n",
       "      <td>...</td>\n",
       "      <td>4</td>\n",
       "      <td>2</td>\n",
       "      <td>3</td>\n",
       "      <td>1</td>\n",
       "      <td>4</td>\n",
       "      <td>5</td>\n",
       "      <td>6</td>\n",
       "      <td>7</td>\n",
       "      <td>5</td>\n",
       "      <td>High</td>\n",
       "    </tr>\n",
       "    <tr>\n",
       "      <th>4</th>\n",
       "      <td>4</td>\n",
       "      <td>P101</td>\n",
       "      <td>46</td>\n",
       "      <td>1</td>\n",
       "      <td>6</td>\n",
       "      <td>8</td>\n",
       "      <td>7</td>\n",
       "      <td>7</td>\n",
       "      <td>7</td>\n",
       "      <td>6</td>\n",
       "      <td>...</td>\n",
       "      <td>3</td>\n",
       "      <td>2</td>\n",
       "      <td>4</td>\n",
       "      <td>1</td>\n",
       "      <td>4</td>\n",
       "      <td>2</td>\n",
       "      <td>4</td>\n",
       "      <td>2</td>\n",
       "      <td>3</td>\n",
       "      <td>High</td>\n",
       "    </tr>\n",
       "  </tbody>\n",
       "</table>\n",
       "<p>5 rows × 26 columns</p>\n",
       "</div>"
      ],
      "text/plain": [
       "   index Patient Id  Age  Gender  Air Pollution  Alcohol use  Dust Allergy  \\\n",
       "0      0         P1   33       1              2            4             5   \n",
       "1      1        P10   17       1              3            1             5   \n",
       "2      2       P100   35       1              4            5             6   \n",
       "3      3      P1000   37       1              7            7             7   \n",
       "4      4       P101   46       1              6            8             7   \n",
       "\n",
       "   OccuPational Hazards  Genetic Risk  chronic Lung Disease  ...  Fatigue  \\\n",
       "0                     4             3                     2  ...        3   \n",
       "1                     3             4                     2  ...        1   \n",
       "2                     5             5                     4  ...        8   \n",
       "3                     7             6                     7  ...        4   \n",
       "4                     7             7                     6  ...        3   \n",
       "\n",
       "   Weight Loss  Shortness of Breath  Wheezing  Swallowing Difficulty  \\\n",
       "0            4                    2         2                      3   \n",
       "1            3                    7         8                      6   \n",
       "2            7                    9         2                      1   \n",
       "3            2                    3         1                      4   \n",
       "4            2                    4         1                      4   \n",
       "\n",
       "   Clubbing of Finger Nails  Frequent Cold  Dry Cough  Snoring   Level  \n",
       "0                         1              2          3        4     Low  \n",
       "1                         2              1          7        2  Medium  \n",
       "2                         4              6          7        2    High  \n",
       "3                         5              6          7        5    High  \n",
       "4                         2              4          2        3    High  \n",
       "\n",
       "[5 rows x 26 columns]"
      ]
     },
     "execution_count": 7,
     "metadata": {},
     "output_type": "execute_result"
    }
   ],
   "source": [
    "\n",
    "# Load the dataset\n",
    "DATA_PATH = \"../data/lung_cancer_data.csv\"\n",
    "df = pd.read_csv(DATA_PATH)\n",
    "print(f\"Loaded data shape: {df.shape}\")\n",
    "df.head()\n"
   ]
  },
  {
   "cell_type": "code",
   "execution_count": 9,
   "id": "810f0adc",
   "metadata": {},
   "outputs": [
    {
     "name": "stdout",
     "output_type": "stream",
     "text": [
      "Processed - Normalized columns:\n",
      "['index', 'patient_id', 'age', 'gender', 'air_pollution', 'alcohol_use', 'dust_allergy', 'occupational_hazards', 'genetic_risk', 'chronic_lung_disease', 'balanced_diet', 'obesity', 'smoking', 'passive_smoker', 'chest_pain', 'coughing_of_blood', 'fatigue', 'weight_loss', 'shortness_of_breath', 'wheezing', 'swallowing_difficulty', 'clubbing_of_finger_nails', 'frequent_cold', 'dry_cough', 'snoring', 'level']\n"
     ]
    }
   ],
   "source": [
    "# Clean and normalize column names\n",
    "df.columns = (\n",
    "    df.columns.str.strip()\n",
    "    .str.lower()\n",
    "    .str.replace(\" \", \"_\")\n",
    "    .str.replace(\"-\", \"_\")\n",
    ")\n",
    "\n",
    "# Preview columns\n",
    "print(\"Processed - Normalized columns:\")\n",
    "print(df.columns.tolist())"
   ]
  },
  {
   "cell_type": "code",
   "execution_count": 10,
   "id": "7b84fb03",
   "metadata": {},
   "outputs": [
    {
     "name": "stdout",
     "output_type": "stream",
     "text": [
      "<class 'pandas.core.frame.DataFrame'>\n",
      "RangeIndex: 1000 entries, 0 to 999\n",
      "Data columns (total 26 columns):\n",
      " #   Column                    Non-Null Count  Dtype \n",
      "---  ------                    --------------  ----- \n",
      " 0   index                     1000 non-null   int64 \n",
      " 1   patient_id                1000 non-null   object\n",
      " 2   age                       1000 non-null   int64 \n",
      " 3   gender                    1000 non-null   int64 \n",
      " 4   air_pollution             1000 non-null   int64 \n",
      " 5   alcohol_use               1000 non-null   int64 \n",
      " 6   dust_allergy              1000 non-null   int64 \n",
      " 7   occupational_hazards      1000 non-null   int64 \n",
      " 8   genetic_risk              1000 non-null   int64 \n",
      " 9   chronic_lung_disease      1000 non-null   int64 \n",
      " 10  balanced_diet             1000 non-null   int64 \n",
      " 11  obesity                   1000 non-null   int64 \n",
      " 12  smoking                   1000 non-null   int64 \n",
      " 13  passive_smoker            1000 non-null   int64 \n",
      " 14  chest_pain                1000 non-null   int64 \n",
      " 15  coughing_of_blood         1000 non-null   int64 \n",
      " 16  fatigue                   1000 non-null   int64 \n",
      " 17  weight_loss               1000 non-null   int64 \n",
      " 18  shortness_of_breath       1000 non-null   int64 \n",
      " 19  wheezing                  1000 non-null   int64 \n",
      " 20  swallowing_difficulty     1000 non-null   int64 \n",
      " 21  clubbing_of_finger_nails  1000 non-null   int64 \n",
      " 22  frequent_cold             1000 non-null   int64 \n",
      " 23  dry_cough                 1000 non-null   int64 \n",
      " 24  snoring                   1000 non-null   int64 \n",
      " 25  level                     1000 non-null   object\n",
      "dtypes: int64(24), object(2)\n",
      "memory usage: 203.2+ KB\n",
      "None\n",
      "\n",
      "Missing values:\n",
      " index                       0\n",
      "patient_id                  0\n",
      "age                         0\n",
      "gender                      0\n",
      "air_pollution               0\n",
      "alcohol_use                 0\n",
      "dust_allergy                0\n",
      "occupational_hazards        0\n",
      "genetic_risk                0\n",
      "chronic_lung_disease        0\n",
      "balanced_diet               0\n",
      "obesity                     0\n",
      "smoking                     0\n",
      "passive_smoker              0\n",
      "chest_pain                  0\n",
      "coughing_of_blood           0\n",
      "fatigue                     0\n",
      "weight_loss                 0\n",
      "shortness_of_breath         0\n",
      "wheezing                    0\n",
      "swallowing_difficulty       0\n",
      "clubbing_of_finger_nails    0\n",
      "frequent_cold               0\n",
      "dry_cough                   0\n",
      "snoring                     0\n",
      "level                       0\n",
      "dtype: int64\n"
     ]
    }
   ],
   "source": [
    "# Preview and check for missing values\n",
    "print(df.info())\n",
    "print(\"\\nMissing values:\\n\", df.isnull().sum())\n"
   ]
  },
  {
   "cell_type": "code",
   "execution_count": 11,
   "id": "9aeec357",
   "metadata": {},
   "outputs": [
    {
     "name": "stdout",
     "output_type": "stream",
     "text": [
      "Categorical columns: ['patient_id', 'level']\n"
     ]
    }
   ],
   "source": [
    "# Encode categorical variables\n",
    "# Identify object-type columns (assume these are categorical)\n",
    "cat_cols = df.select_dtypes(include='object').columns.tolist()\n",
    "print(\"Categorical columns:\", cat_cols)\n",
    "\n",
    "label_encoders = {}\n",
    "for col in cat_cols:\n",
    "    df[col] = df[col].astype(str).str.strip().str.lower()\n",
    "    le = LabelEncoder()\n",
    "    df[col] = le.fit_transform(df[col])\n",
    "    label_encoders[col] = le  # Save encoder for future decoding if needed"
   ]
  },
  {
   "cell_type": "code",
   "execution_count": 12,
   "id": "56cb5d47",
   "metadata": {},
   "outputs": [
    {
     "name": "stdout",
     "output_type": "stream",
     "text": [
      "Scaled age column.\n"
     ]
    }
   ],
   "source": [
    "# Scale numeric columns\n",
    "if 'age' in df.columns:\n",
    "    scaler = StandardScaler()\n",
    "    df['age'] = scaler.fit_transform(df[['age']])\n",
    "    print(\"Scaled age column.\")"
   ]
  },
  {
   "cell_type": "code",
   "execution_count": 13,
   "id": "52bcc832",
   "metadata": {},
   "outputs": [
    {
     "name": "stdout",
     "output_type": "stream",
     "text": [
      "Target column 'lung_cancer' not found. Skipping target visualization.\n"
     ]
    }
   ],
   "source": [
    "# Optional: Visualize class balance (if target column exists)\n",
    "target_col = 'lung_cancer'  # Adjust if different\n",
    "if target_col in df.columns:\n",
    "    sns.countplot(x=target_col, data=df)\n",
    "    plt.title(\"Target Variable Distribution\")\n",
    "    plt.show()\n",
    "else:\n",
    "    print(f\"Target column '{target_col}' not found. Skipping target visualization.\")\n"
   ]
  },
  {
   "cell_type": "code",
   "execution_count": 16,
   "id": "0a5882fe",
   "metadata": {},
   "outputs": [
    {
     "name": "stdout",
     "output_type": "stream",
     "text": [
      "Preprocessed data saved to: ../data/processed_lung_cancer_data.csv\n"
     ]
    }
   ],
   "source": [
    "# Save preprocessed dataset\n",
    "OUTPUT_PATH = \"../data/processed_lung_cancer_data.csv\"\n",
    "df.to_csv(OUTPUT_PATH, index=False)\n",
    "print(f\"Preprocessed data saved to: {OUTPUT_PATH}\")\n"
   ]
  },
  {
   "cell_type": "code",
   "execution_count": null,
   "id": "2c8f085f",
   "metadata": {},
   "outputs": [],
   "source": []
  }
 ],
 "metadata": {
  "kernelspec": {
   "display_name": ".venv",
   "language": "python",
   "name": "python3"
  },
  "language_info": {
   "codemirror_mode": {
    "name": "ipython",
    "version": 3
   },
   "file_extension": ".py",
   "mimetype": "text/x-python",
   "name": "python",
   "nbconvert_exporter": "python",
   "pygments_lexer": "ipython3",
   "version": "3.9.10"
  }
 },
 "nbformat": 4,
 "nbformat_minor": 5
}
